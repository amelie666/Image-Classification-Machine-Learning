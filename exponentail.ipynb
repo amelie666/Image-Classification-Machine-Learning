{
 "cells": [
  {
   "cell_type": "code",
   "execution_count": 7,
   "metadata": {
    "collapsed": true
   },
   "outputs": [],
   "source": [
    "from DataSets import csv_read as cv\n",
    "import numpy as np"
   ]
  },
  {
   "cell_type": "code",
   "execution_count": 2,
   "metadata": {
    "collapsed": true,
    "scrolled": false
   },
   "outputs": [],
   "source": [
    "G = cv.load_exp_graph_matrix()\n",
    "seeds = cv.load_seed()"
   ]
  },
  {
   "cell_type": "code",
   "execution_count": 3,
   "metadata": {
    "collapsed": true,
    "scrolled": true
   },
   "outputs": [],
   "source": [
    "X_sp = cv.load_spectral_embedding(g_type='exp')"
   ]
  },
  {
   "cell_type": "code",
   "execution_count": 8,
   "metadata": {},
   "outputs": [
    {
     "data": {
      "text/plain": [
       "(6000, 500)"
      ]
     },
     "execution_count": 8,
     "metadata": {},
     "output_type": "execute_result"
    }
   ],
   "source": [
    "X_sp = X_sp[:,:500]\n",
    "X_sp.shape"
   ]
  },
  {
   "cell_type": "code",
   "execution_count": 5,
   "metadata": {
    "collapsed": true
   },
   "outputs": [],
   "source": [
    "from sklearn.cluster import KMeans\n",
    "from sklearn.mixture import GaussianMixture\n",
    "from sklearn import metrics\n",
    "\n",
    "def run_metrics(X, labels_pred, labels_true=seeds[:,1]):\n",
    "    labels = labels_pred[seeds[:,0]-1]\n",
    "    print(\"Homogeneity: %0.3f\" % metrics.homogeneity_score(labels_true, labels))\n",
    "    print(\"Completeness: %0.3f\" % metrics.completeness_score(labels_true, labels))\n",
    "    print(\"V-measure: %0.3f\" % metrics.v_measure_score(labels_true, labels))\n",
    "    print(\"Adjusted Rand Index: %0.3f\"\n",
    "      % metrics.adjusted_rand_score(labels_true, labels))\n",
    "    print(\"Adjusted Mutual Information: %0.3f\"\n",
    "      % metrics.adjusted_mutual_info_score(labels_true, labels))\n",
    "    print(\"Silhouette Coefficient: %0.3f\"\n",
    "      % metrics.silhouette_score(X, labels_pred, metric='sqeuclidean'))\n",
    "\n",
    "def v_measure(labels_pred, labels_true=seeds[:,1]):\n",
    "    labels = labels_pred[seeds[:,0]-1]\n",
    "    return metrics.v_measure_score(labels_true, labels)\n",
    "    \n",
    "def clust_kmeans(X):\n",
    "        kmeans = KMeans(n_clusters = 10).fit(X)\n",
    "        run_metrics(X, kmeans.labels_)\n",
    "        return kmeans.labels_\n",
    "\n",
    "def clust_gmm(X):\n",
    "    gmm = GaussianMixture(n_components=10, max_iter=200, n_init=10).fit(X)\n",
    "    labels = gmm.predict(X)\n",
    "    run_metrics(X, labels)\n",
    "    return labels"
   ]
  },
  {
   "cell_type": "code",
   "execution_count": 33,
   "metadata": {},
   "outputs": [
    {
     "name": "stdout",
     "output_type": "stream",
     "text": [
      "Homogeneity: 0.520\n",
      "Completeness: 0.575\n",
      "V-measure: 0.546\n",
      "Adjusted Rand Index: 0.215\n",
      "Adjusted Mutual Information: 0.310\n",
      "Silhouette Coefficient: -0.126\n"
     ]
    }
   ],
   "source": [
    "kmeans = clust_kmeans(X_sp)"
   ]
  },
  {
   "cell_type": "code",
   "execution_count": 36,
   "metadata": {},
   "outputs": [
    {
     "name": "stdout",
     "output_type": "stream",
     "text": [
      "Homogeneity: 0.550\n",
      "Completeness: 0.595\n",
      "V-measure: 0.572\n",
      "Adjusted Rand Index: 0.243\n",
      "Adjusted Mutual Information: 0.349\n",
      "Silhouette Coefficient: -0.142\n"
     ]
    }
   ],
   "source": [
    "gmm = clust_gmm(X_sp)"
   ]
  },
  {
   "cell_type": "code",
   "execution_count": 10,
   "metadata": {
    "collapsed": true
   },
   "outputs": [],
   "source": [
    "X_PCA = cv.load_extracted_features_PCA(k=500)\n",
    "X_f = cv.load_extracted_features()"
   ]
  },
  {
   "cell_type": "code",
   "execution_count": 39,
   "metadata": {
    "collapsed": true
   },
   "outputs": [],
   "source": [
    "from sklearn.cross_decomposition import CCA\n",
    "\n",
    "cca = CCA(n_components=8)\n",
    "cca.fit(X_PCA[:6000], X_sp)\n",
    "cca_preds = cca.transform(X_PCA)"
   ]
  },
  {
   "cell_type": "code",
   "execution_count": 40,
   "metadata": {},
   "outputs": [
    {
     "name": "stdout",
     "output_type": "stream",
     "text": [
      "Homogeneity: 0.643\n",
      "Completeness: 0.671\n",
      "V-measure: 0.657\n",
      "Adjusted Rand Index: 0.387\n",
      "Adjusted Mutual Information: 0.472\n",
      "Silhouette Coefficient: 0.261\n"
     ]
    }
   ],
   "source": [
    "kmeans = clust_kmeans(cca_preds)"
   ]
  },
  {
   "cell_type": "code",
   "execution_count": 41,
   "metadata": {},
   "outputs": [
    {
     "name": "stdout",
     "output_type": "stream",
     "text": [
      "Homogeneity: 0.714\n",
      "Completeness: 0.744\n",
      "V-measure: 0.728\n",
      "Adjusted Rand Index: 0.513\n",
      "Adjusted Mutual Information: 0.577\n",
      "Silhouette Coefficient: 0.217\n"
     ]
    }
   ],
   "source": [
    "gmm = clust_gmm(cca_preds)"
   ]
  },
  {
   "cell_type": "code",
   "execution_count": 42,
   "metadata": {},
   "outputs": [
    {
     "data": {
      "text/plain": [
       "(10000, 1)"
      ]
     },
     "execution_count": 42,
     "metadata": {},
     "output_type": "execute_result"
    }
   ],
   "source": [
    "X_f[:,0].reshape(-1,1).shape"
   ]
  },
  {
   "cell_type": "code",
   "execution_count": 16,
   "metadata": {},
   "outputs": [
    {
     "name": "stdout",
     "output_type": "stream",
     "text": [
      "Accuracy: 0.0166666666667\n",
      "F1 score: 0.0166666666667\n"
     ]
    },
    {
     "data": {
      "text/plain": [
       "array([[0, 0, 0, 0, 0, 6, 0, 0, 0, 0],\n",
       "       [0, 0, 0, 6, 0, 0, 0, 0, 0, 0],\n",
       "       [0, 6, 0, 0, 0, 0, 0, 0, 0, 0],\n",
       "       [0, 0, 0, 0, 1, 0, 0, 0, 5, 0],\n",
       "       [0, 0, 0, 0, 0, 0, 0, 6, 0, 0],\n",
       "       [0, 0, 0, 1, 1, 0, 1, 0, 0, 3],\n",
       "       [0, 0, 4, 0, 1, 1, 0, 0, 0, 0],\n",
       "       [4, 0, 0, 0, 1, 0, 0, 0, 0, 1],\n",
       "       [0, 0, 0, 1, 1, 0, 1, 0, 0, 3],\n",
       "       [1, 0, 0, 0, 0, 0, 0, 4, 0, 1]])"
      ]
     },
     "execution_count": 16,
     "metadata": {},
     "output_type": "execute_result"
    }
   ],
   "source": [
    "def cm(labels_pred, labels_true=seeds[:,1]): \n",
    "    labels = labels_pred[seeds[:,0]-1]\n",
    "    print(\"Accuracy: \" + str(metrics.accuracy_score(labels_true, labels)))\n",
    "    print(\"F1 score: \" + str(metrics.f1_score(labels_true, labels, average='micro')))  \n",
    "    return metrics.confusion_matrix(labels_true, labels)\n",
    "\n",
    "cm(gmm)"
   ]
  },
  {
   "cell_type": "code",
   "execution_count": 70,
   "metadata": {
    "collapsed": true
   },
   "outputs": [],
   "source": [
    "def best_pred(labels_pred, labels_true=seeds[:,1]):\n",
    "    labels = labels_pred[seeds[:,0]-1]\n",
    "    from itertools import permutations\n",
    "    max = 0\n",
    "    for d in permutations(range(10)):\n",
    "        preds = []\n",
    "        for i in range(labels_true.shape[0]):\n",
    "            preds.append(d[labels[i]])\n",
    "        if(metrics.accuracy_score(labels_true, preds) > max):\n",
    "            max = metrics.accuracy_score(labels_true, preds)\n",
    "            best_d = d\n",
    "    return best_d\n",
    "\n",
    "def best_labels(d,labels_pred):\n",
    "    preds = []\n",
    "    for i in range(10000):\n",
    "        preds.append(d[labels_pred[i]])\n",
    "    return np.array(preds)"
   ]
  },
  {
   "cell_type": "code",
   "execution_count": 65,
   "metadata": {},
   "outputs": [
    {
     "data": {
      "text/plain": [
       "(3, 4, 5, 2, 0, 7, 8, 1, 9, 6)"
      ]
     },
     "execution_count": 65,
     "metadata": {},
     "output_type": "execute_result"
    }
   ],
   "source": [
    "best_map = best_pred(gmm)\n",
    "print(best_map)"
   ]
  },
  {
   "cell_type": "code",
   "execution_count": 71,
   "metadata": {
    "collapsed": true
   },
   "outputs": [],
   "source": [
    "best_map= [3, 4, 5, 2, 0, 7, 8, 1, 9, 6]\n",
    "preds = best_labels(best_map, gmm)"
   ]
  },
  {
   "cell_type": "code",
   "execution_count": 73,
   "metadata": {},
   "outputs": [
    {
     "name": "stdout",
     "output_type": "stream",
     "text": [
      "Accuracy: 0.716666666667\n",
      "F1 score: 0.716666666667\n"
     ]
    },
    {
     "data": {
      "text/plain": [
       "array([[5, 0, 0, 0, 0, 0, 0, 0, 0, 1],\n",
       "       [0, 6, 0, 0, 0, 0, 0, 0, 0, 0],\n",
       "       [0, 1, 5, 0, 0, 0, 0, 0, 0, 0],\n",
       "       [0, 0, 0, 5, 0, 0, 0, 0, 1, 0],\n",
       "       [0, 0, 0, 0, 6, 0, 0, 0, 0, 0],\n",
       "       [0, 0, 0, 0, 0, 6, 0, 0, 0, 0],\n",
       "       [0, 0, 0, 0, 0, 0, 5, 0, 0, 1],\n",
       "       [0, 1, 0, 0, 0, 0, 0, 5, 0, 0],\n",
       "       [0, 3, 0, 0, 1, 2, 0, 0, 0, 0],\n",
       "       [0, 0, 0, 0, 4, 1, 0, 1, 0, 0]])"
      ]
     },
     "execution_count": 73,
     "metadata": {},
     "output_type": "execute_result"
    }
   ],
   "source": [
    "cm(preds)"
   ]
  },
  {
   "cell_type": "code",
   "execution_count": 94,
   "metadata": {},
   "outputs": [
    {
     "data": {
      "text/plain": [
       "array([[ 6001,     1],\n",
       "       [ 6002,     4],\n",
       "       [ 6003,     0],\n",
       "       ..., \n",
       "       [ 9998,     0],\n",
       "       [ 9999,     5],\n",
       "       [10000,     7]])"
      ]
     },
     "execution_count": 94,
     "metadata": {},
     "output_type": "execute_result"
    }
   ],
   "source": [
    "x = np.array(range(1,10001))\n",
    "out = np.column_stack((x,preds))\n",
    "out[6000:]"
   ]
  },
  {
   "cell_type": "code",
   "execution_count": 93,
   "metadata": {
    "collapsed": true
   },
   "outputs": [],
   "source": [
    "np.savetxt('{}'.format(\"CCA_ALL_PREDS\"), out[6000:], delimiter=',', fmt='%d',  header='Id,Label')"
   ]
  },
  {
   "cell_type": "code",
   "execution_count": 47,
   "metadata": {
    "collapsed": true
   },
   "outputs": [],
   "source": [
    "cca = CCA(n_components=8)\n",
    "cca.fit(X_f[:6000], X_sp)\n",
    "cca_preds = cca.transform(X_f)"
   ]
  },
  {
   "cell_type": "code",
   "execution_count": 48,
   "metadata": {},
   "outputs": [
    {
     "name": "stdout",
     "output_type": "stream",
     "text": [
      "Homogeneity: 0.744\n",
      "Completeness: 0.771\n",
      "V-measure: 0.757\n",
      "Adjusted Rand Index: 0.533\n",
      "Adjusted Mutual Information: 0.619\n",
      "Silhouette Coefficient: 0.233\n"
     ]
    }
   ],
   "source": [
    "kmeans = clust_kmeans(cca_preds)"
   ]
  },
  {
   "cell_type": "code",
   "execution_count": 49,
   "metadata": {},
   "outputs": [
    {
     "name": "stdout",
     "output_type": "stream",
     "text": [
      "Homogeneity: 0.753\n",
      "Completeness: 0.808\n",
      "V-measure: 0.779\n",
      "Adjusted Rand Index: 0.553\n",
      "Adjusted Mutual Information: 0.642\n",
      "Silhouette Coefficient: 0.219\n"
     ]
    }
   ],
   "source": [
    "gmm = clust_gmm(cca_preds)"
   ]
  },
  {
   "cell_type": "code",
   "execution_count": null,
   "metadata": {},
   "outputs": [],
   "source": [
    "dist_euc = cv.load_graph(shape_match=True, g_type='dist', dist_type='euc')\n",
    "X_euc = cv.load_spectral_embedding(g_type='dist', dist_type='euc')"
   ]
  },
  {
   "cell_type": "code",
   "execution_count": 9,
   "metadata": {},
   "outputs": [
    {
     "ename": "NameError",
     "evalue": "name 'X_euc' is not defined",
     "output_type": "error",
     "traceback": [
      "\u001b[0;31m---------------------------------------------------------------------------\u001b[0m",
      "\u001b[0;31mNameError\u001b[0m                                 Traceback (most recent call last)",
      "\u001b[0;32m<ipython-input-9-4c3be0209a06>\u001b[0m in \u001b[0;36m<module>\u001b[0;34m()\u001b[0m\n\u001b[0;32m----> 1\u001b[0;31m \u001b[0mX_euc\u001b[0m \u001b[0;34m=\u001b[0m \u001b[0mX_euc\u001b[0m\u001b[0;34m[\u001b[0m\u001b[0;34m:\u001b[0m\u001b[0;34m,\u001b[0m\u001b[0;36m500\u001b[0m\u001b[0;34m]\u001b[0m\u001b[0;34m\u001b[0m\u001b[0m\n\u001b[0m\u001b[1;32m      2\u001b[0m \u001b[0mX_euc\u001b[0m\u001b[0;34m.\u001b[0m\u001b[0mshape\u001b[0m\u001b[0;34m\u001b[0m\u001b[0m\n",
      "\u001b[0;31mNameError\u001b[0m: name 'X_euc' is not defined"
     ]
    }
   ],
   "source": [
    "X_euc = X_euc[:,500]\n",
    "X_euc.shape"
   ]
  }
 ],
 "metadata": {
  "kernelspec": {
   "display_name": "Python 3",
   "language": "python",
   "name": "python3"
  },
  "language_info": {
   "codemirror_mode": {
    "name": "ipython",
    "version": 3
   },
   "file_extension": ".py",
   "mimetype": "text/x-python",
   "name": "python",
   "nbconvert_exporter": "python",
   "pygments_lexer": "ipython3",
   "version": "3.6.3"
  },
  "toc": {
   "colors": {
    "hover_highlight": "#DAA520",
    "navigate_num": "#000000",
    "navigate_text": "#333333",
    "running_highlight": "#FF0000",
    "selected_highlight": "#FFD700",
    "sidebar_border": "#EEEEEE",
    "wrapper_background": "#FFFFFF"
   },
   "moveMenuLeft": true,
   "nav_menu": {
    "height": "12px",
    "width": "252px"
   },
   "navigate_menu": true,
   "number_sections": true,
   "sideBar": true,
   "threshold": 4,
   "toc_cell": false,
   "toc_section_display": "block",
   "toc_window_display": false,
   "widenNotebook": false
  }
 },
 "nbformat": 4,
 "nbformat_minor": 2
}
