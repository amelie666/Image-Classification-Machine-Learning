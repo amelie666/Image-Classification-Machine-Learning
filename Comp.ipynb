{
 "cells": [
  {
   "cell_type": "code",
   "execution_count": 211,
   "metadata": {},
   "outputs": [],
   "source": [
    "import pandas as pd\n",
    "import numpy as np\n",
    "import numpy.linalg as linalg\n",
    "import matplotlib.pyplot as plt\n",
    "import os\n",
    "\n",
    "from matplotlib import offsetbox\n",
    "from time import time\n",
    "from sklearn import metrics\n",
    "from sklearn.datasets import load_digits\n",
    "from sklearn.cluster import KMeans\n",
    "from sklearn.decomposition import PCA, KernelPCA, TruncatedSVD\n",
    "from sklearn.preprocessing import StandardScaler, scale\n",
    "from sklearn.manifold import SpectralEmbedding, TSNE\n",
    "from sklearn.cross_decomposition import CCA\n",
    "\n",
    "X = pd.read_csv(os.getcwd() + '/InitialData/Extracted_features.csv', header= None)\n",
    "seeds = np.loadtxt(os.getcwd() + '/InitialData/Seed.csv', delimiter=',')\n",
    "\n",
    "n_samples, n_features = X.shape"
   ]
  },
  {
   "cell_type": "code",
   "execution_count": 57,
   "metadata": {},
   "outputs": [
    {
     "ename": "KeyboardInterrupt",
     "evalue": "",
     "output_type": "error",
     "traceback": [
      "\u001b[0;31m---------------------------------------------------------------------------\u001b[0m",
      "\u001b[0;31mKeyboardInterrupt\u001b[0m                         Traceback (most recent call last)",
      "\u001b[0;32m<ipython-input-57-45a511a34fb2>\u001b[0m in \u001b[0;36m<module>\u001b[0;34m()\u001b[0m\n\u001b[1;32m     22\u001b[0m     \u001b[0mplt\u001b[0m\u001b[0;34m.\u001b[0m\u001b[0mshow\u001b[0m\u001b[0;34m(\u001b[0m\u001b[0;34m)\u001b[0m\u001b[0;34m\u001b[0m\u001b[0m\n\u001b[1;32m     23\u001b[0m \u001b[0;34m\u001b[0m\u001b[0m\n\u001b[0;32m---> 24\u001b[0;31m \u001b[0mplt_PCA\u001b[0m\u001b[0;34m(\u001b[0m\u001b[0mX\u001b[0m\u001b[0;34m)\u001b[0m\u001b[0;34m\u001b[0m\u001b[0m\n\u001b[0m",
      "\u001b[0;32m<ipython-input-57-45a511a34fb2>\u001b[0m in \u001b[0;36mplt_PCA\u001b[0;34m(X)\u001b[0m\n\u001b[1;32m      4\u001b[0m     \u001b[0mpca\u001b[0m \u001b[0;34m=\u001b[0m \u001b[0mPCA\u001b[0m\u001b[0;34m(\u001b[0m\u001b[0;34m)\u001b[0m\u001b[0;34m\u001b[0m\u001b[0m\n\u001b[1;32m      5\u001b[0m     \u001b[0;31m# Plot the PCA spectrum\u001b[0m\u001b[0;34m\u001b[0m\u001b[0;34m\u001b[0m\u001b[0m\n\u001b[0;32m----> 6\u001b[0;31m     \u001b[0mpca\u001b[0m\u001b[0;34m.\u001b[0m\u001b[0mfit\u001b[0m\u001b[0;34m(\u001b[0m\u001b[0mX_std\u001b[0m\u001b[0;34m)\u001b[0m\u001b[0;34m\u001b[0m\u001b[0m\n\u001b[0m\u001b[1;32m      7\u001b[0m \u001b[0;34m\u001b[0m\u001b[0m\n\u001b[1;32m      8\u001b[0m     \u001b[0mplt\u001b[0m\u001b[0;34m.\u001b[0m\u001b[0mclf\u001b[0m\u001b[0;34m(\u001b[0m\u001b[0;34m)\u001b[0m\u001b[0;34m\u001b[0m\u001b[0m\n",
      "\u001b[0;32m/Library/Frameworks/Python.framework/Versions/3.6/lib/python3.6/site-packages/sklearn/decomposition/pca.py\u001b[0m in \u001b[0;36mfit\u001b[0;34m(self, X, y)\u001b[0m\n\u001b[1;32m    325\u001b[0m             \u001b[0mReturns\u001b[0m \u001b[0mthe\u001b[0m \u001b[0minstance\u001b[0m \u001b[0mitself\u001b[0m\u001b[0;34m.\u001b[0m\u001b[0;34m\u001b[0m\u001b[0m\n\u001b[1;32m    326\u001b[0m         \"\"\"\n\u001b[0;32m--> 327\u001b[0;31m         \u001b[0mself\u001b[0m\u001b[0;34m.\u001b[0m\u001b[0m_fit\u001b[0m\u001b[0;34m(\u001b[0m\u001b[0mX\u001b[0m\u001b[0;34m)\u001b[0m\u001b[0;34m\u001b[0m\u001b[0m\n\u001b[0m\u001b[1;32m    328\u001b[0m         \u001b[0;32mreturn\u001b[0m \u001b[0mself\u001b[0m\u001b[0;34m\u001b[0m\u001b[0m\n\u001b[1;32m    329\u001b[0m \u001b[0;34m\u001b[0m\u001b[0m\n",
      "\u001b[0;32m/Library/Frameworks/Python.framework/Versions/3.6/lib/python3.6/site-packages/sklearn/decomposition/pca.py\u001b[0m in \u001b[0;36m_fit\u001b[0;34m(self, X)\u001b[0m\n\u001b[1;32m    386\u001b[0m         \u001b[0;31m# Call different fits for either full or truncated SVD\u001b[0m\u001b[0;34m\u001b[0m\u001b[0;34m\u001b[0m\u001b[0m\n\u001b[1;32m    387\u001b[0m         \u001b[0;32mif\u001b[0m \u001b[0msvd_solver\u001b[0m \u001b[0;34m==\u001b[0m \u001b[0;34m'full'\u001b[0m\u001b[0;34m:\u001b[0m\u001b[0;34m\u001b[0m\u001b[0m\n\u001b[0;32m--> 388\u001b[0;31m             \u001b[0;32mreturn\u001b[0m \u001b[0mself\u001b[0m\u001b[0;34m.\u001b[0m\u001b[0m_fit_full\u001b[0m\u001b[0;34m(\u001b[0m\u001b[0mX\u001b[0m\u001b[0;34m,\u001b[0m \u001b[0mn_components\u001b[0m\u001b[0;34m)\u001b[0m\u001b[0;34m\u001b[0m\u001b[0m\n\u001b[0m\u001b[1;32m    389\u001b[0m         \u001b[0;32melif\u001b[0m \u001b[0msvd_solver\u001b[0m \u001b[0;32min\u001b[0m \u001b[0;34m[\u001b[0m\u001b[0;34m'arpack'\u001b[0m\u001b[0;34m,\u001b[0m \u001b[0;34m'randomized'\u001b[0m\u001b[0;34m]\u001b[0m\u001b[0;34m:\u001b[0m\u001b[0;34m\u001b[0m\u001b[0m\n\u001b[1;32m    390\u001b[0m             \u001b[0;32mreturn\u001b[0m \u001b[0mself\u001b[0m\u001b[0;34m.\u001b[0m\u001b[0m_fit_truncated\u001b[0m\u001b[0;34m(\u001b[0m\u001b[0mX\u001b[0m\u001b[0;34m,\u001b[0m \u001b[0mn_components\u001b[0m\u001b[0;34m,\u001b[0m \u001b[0msvd_solver\u001b[0m\u001b[0;34m)\u001b[0m\u001b[0;34m\u001b[0m\u001b[0m\n",
      "\u001b[0;32m/Library/Frameworks/Python.framework/Versions/3.6/lib/python3.6/site-packages/sklearn/decomposition/pca.py\u001b[0m in \u001b[0;36m_fit_full\u001b[0;34m(self, X, n_components)\u001b[0m\n\u001b[1;32m    410\u001b[0m         \u001b[0mX\u001b[0m \u001b[0;34m-=\u001b[0m \u001b[0mself\u001b[0m\u001b[0;34m.\u001b[0m\u001b[0mmean_\u001b[0m\u001b[0;34m\u001b[0m\u001b[0m\n\u001b[1;32m    411\u001b[0m \u001b[0;34m\u001b[0m\u001b[0m\n\u001b[0;32m--> 412\u001b[0;31m         \u001b[0mU\u001b[0m\u001b[0;34m,\u001b[0m \u001b[0mS\u001b[0m\u001b[0;34m,\u001b[0m \u001b[0mV\u001b[0m \u001b[0;34m=\u001b[0m \u001b[0mlinalg\u001b[0m\u001b[0;34m.\u001b[0m\u001b[0msvd\u001b[0m\u001b[0;34m(\u001b[0m\u001b[0mX\u001b[0m\u001b[0;34m,\u001b[0m \u001b[0mfull_matrices\u001b[0m\u001b[0;34m=\u001b[0m\u001b[0;32mFalse\u001b[0m\u001b[0;34m)\u001b[0m\u001b[0;34m\u001b[0m\u001b[0m\n\u001b[0m\u001b[1;32m    413\u001b[0m         \u001b[0;31m# flip eigenvectors' sign to enforce deterministic output\u001b[0m\u001b[0;34m\u001b[0m\u001b[0;34m\u001b[0m\u001b[0m\n\u001b[1;32m    414\u001b[0m         \u001b[0mU\u001b[0m\u001b[0;34m,\u001b[0m \u001b[0mV\u001b[0m \u001b[0;34m=\u001b[0m \u001b[0msvd_flip\u001b[0m\u001b[0;34m(\u001b[0m\u001b[0mU\u001b[0m\u001b[0;34m,\u001b[0m \u001b[0mV\u001b[0m\u001b[0;34m)\u001b[0m\u001b[0;34m\u001b[0m\u001b[0m\n",
      "\u001b[0;32m/Library/Frameworks/Python.framework/Versions/3.6/lib/python3.6/site-packages/scipy/linalg/decomp_svd.py\u001b[0m in \u001b[0;36msvd\u001b[0;34m(a, full_matrices, compute_uv, overwrite_a, check_finite, lapack_driver)\u001b[0m\n\u001b[1;32m    114\u001b[0m     \u001b[0;31m# perform decomposition\u001b[0m\u001b[0;34m\u001b[0m\u001b[0;34m\u001b[0m\u001b[0m\n\u001b[1;32m    115\u001b[0m     u, s, v, info = gesXd(a1, compute_uv=compute_uv, lwork=lwork,\n\u001b[0;32m--> 116\u001b[0;31m                           full_matrices=full_matrices, overwrite_a=overwrite_a)\n\u001b[0m\u001b[1;32m    117\u001b[0m \u001b[0;34m\u001b[0m\u001b[0m\n\u001b[1;32m    118\u001b[0m     \u001b[0;32mif\u001b[0m \u001b[0minfo\u001b[0m \u001b[0;34m>\u001b[0m \u001b[0;36m0\u001b[0m\u001b[0;34m:\u001b[0m\u001b[0;34m\u001b[0m\u001b[0m\n",
      "\u001b[0;31mKeyboardInterrupt\u001b[0m: "
     ]
    }
   ],
   "source": [
    "def plt_PCA(X) :\n",
    "    X_std = StandardScaler().fit_transform(X)\n",
    "\n",
    "    pca = PCA()\n",
    "    # Plot the PCA spectrum\n",
    "    pca.fit(X_std)\n",
    "\n",
    "    plt.clf()\n",
    "    fig = plt.figure(figsize=(12, 6))\n",
    "\n",
    "    ax1 = fig.add_subplot(121)\n",
    "    ax1.plot(pca.explained_variance_ratio_ * 100, 'b-')\n",
    "    ax1.set_xlabel('n_components')\n",
    "    ax1.set_ylabel('explained_variance_percentage')\n",
    "\n",
    "    ax2 = fig.add_subplot(122)\n",
    "    ax2.plot(pca.explained_variance_ratio_.cumsum() * 100, 'r-')\n",
    "    ax2.set_xlabel('n_components')\n",
    "    ax2.set_ylabel('cumulative_variance_percentage')\n",
    "\n",
    "    plt.tight_layout()\n",
    "    plt.show()\n",
    "\n",
    "plt_PCA(X)"
   ]
  },
  {
   "cell_type": "code",
   "execution_count": null,
   "metadata": {},
   "outputs": [],
   "source": [
    "# X_std = StandardScaler().fit_transform(X)\n",
    "\n",
    "\n",
    "# kpca = KernelPCA(kernel=\"rbf\", fit_inverse_transform=True, gamma=10)\n",
    "# X_kpca = kpca.fit_transform(X)\n",
    "# X_back = kpca.inverse_transform(X_kpca)\n",
    "\n",
    "# def plt_PCA:\n",
    "#     plt.clf()\n",
    "#     fig = plt.figure(figsize=(12, 6))\n",
    "\n",
    "#     ax1 = fig.add_subplot(121)\n",
    "#     ax1.plot(pca.explained_variance_ratio_ * 100, 'b-')\n",
    "#     ax1.set_xlabel('n_components')\n",
    "#     ax1.set_ylabel('explained_variance_percentage')\n",
    "\n",
    "#     ax2 = fig.add_subplot(122)\n",
    "#     ax2.plot(pca.explained_variance_ratio_.cumsum() * 100, 'r-')\n",
    "#     ax2.set_xlabel('n_components')\n",
    "#     ax2.set_ylabel('cumulative_variance_percentage')\n",
    "\n",
    "#     plt.tight_layout()\n",
    "#     plt.show()\n",
    "\n",
    "# kpca.lambdas_"
   ]
  },
  {
   "cell_type": "code",
   "execution_count": 194,
   "metadata": {},
   "outputs": [
    {
     "name": "stdout",
     "output_type": "stream",
     "text": [
      "6000\n"
     ]
    }
   ],
   "source": [
    "data = pd.read_csv(os.getcwd() + '/InitialData/Graph.csv', header= None)\n",
    "data = data.values\n",
    "\n",
    "n = max(max(i, j) for i, j in data) # Get size of matrix\n",
    "print(n)\n",
    "matrix = [[0] * n for i in range(n)]\n",
    "\n",
    "for i,j in data:\n",
    "    matrix[i-1][j-1] = 1 # Convert to 0-based index.\n",
    "    matrix[j-1][i-1] = 1\n",
    "\n",
    "matrix = np.matrix(matrix)"
   ]
  },
  {
   "cell_type": "code",
   "execution_count": null,
   "metadata": {},
   "outputs": [],
   "source": [
    "# choose n_features for graph embedding\n",
    "k = 1000\n",
    "\n",
    "spectral = SpectralEmbedding(n_components=k, eigen_solver='arpack', affinity=\"precomputed\")\n",
    "X_sp = spectral.fit_transform(matrix)"
   ]
  },
  {
   "cell_type": "code",
   "execution_count": null,
   "metadata": {},
   "outputs": [],
   "source": [
    "# Custom implementation of CCA, as scikit support for CCA is not optimal.\n",
    "# Source: https://github.com/gallantlab/pyrcca \n",
    "#(Docs: https://www.frontiersin.org/articles/10.3389/fninf.2016.00049/full)\n",
    "import h5py\n",
    "import sys\n",
    "sys.path.insert(0, os.getcwd() + '/modules')\n",
    "import rcca\n",
    "\n",
    "# Can use rcca.CCACrossValidate for hyperpararmeter search \n",
    "cca = rcca.CCA(kernelcca = False, reg = 0., numCC = 1000)\n",
    "cor = cca.train([X[:6000].values, X_sp])\n"
   ]
  },
  {
   "cell_type": "code",
   "execution_count": null,
   "metadata": {},
   "outputs": [],
   "source": [
    "X_pred = X[6000:]\n",
    "X_train = X[:6000]\n",
    "X_ = (X_pred - X_train.mean()).values\n",
    "X_comb = np.dot(X_, cor.ws[0])"
   ]
  },
  {
   "cell_type": "code",
   "execution_count": null,
   "metadata": {},
   "outputs": [],
   "source": [
    "X_comb.shape\n",
    "plt_PCA(X_comb)"
   ]
  },
  {
   "cell_type": "code",
   "execution_count": 212,
   "metadata": {},
   "outputs": [],
   "source": [
    "# Scale and visualize the embedding vectors\n",
    "def plot_embedding(X, y, title=None):\n",
    "    x_min, x_max = np.min(X, 0), np.max(X, 0)\n",
    "    X = (X - x_min) / (x_max - x_min)\n",
    "\n",
    "    plt.figure()\n",
    "    ax = plt.subplot(111)\n",
    "    for i in range(X.shape[0]):\n",
    "#         plt.text(X[i, 0], X[i, 1], str(digits.target[i]),\n",
    "        plt.text(X[i, 0], X[i, 1], str(y[i]),\n",
    "                  color=plt.cm.Set1(y[i] / 10.),\n",
    "                 fontdict={'weight': 'bold', 'size': 9})\n",
    "\n",
    "    if hasattr(offsetbox, 'AnnotationBbox'):\n",
    "        # only print thumbnails with matplotlib > 1.0\n",
    "        shown_images = np.array([[1., 1.]])  # just something big\n",
    "        for i in range(X.shape[0]):\n",
    "            dist = np.sum((X[i] - shown_images) ** 2, 1)\n",
    "            if np.min(dist) < 4e-3:\n",
    "                # don't show points that are too close\n",
    "                continue\n",
    "            shown_images = np.r_[shown_images, [X[i]]]\n",
    "            imagebox = offsetbox.AnnotationBbox(\n",
    "                offsetbox.OffsetImage(digits.images[y[i]], cmap=plt.cm.gray_r),\n",
    "                X[i])\n",
    "            ax.add_artist(imagebox)\n",
    "            \n",
    "    plt.xticks([]), plt.yticks([])\n",
    "    if title is not None:\n",
    "        plt.title(title)\n",
    "\n",
    "def plot_embedding_test(X, y, title=None):\n",
    "    x_min, x_max = np.min(X, 0), np.max(X, 0)\n",
    "    X = (X - x_min) / (x_max - x_min)\n",
    "\n",
    "    plt.figure()\n",
    "    ax = plt.subplot(111)\n",
    "    for i in range(X.shape[0]):\n",
    "#         plt.text(X[i, 0], X[i, 1], str(digits.target[i]),\n",
    "        plt.text(X[i, 0], X[i, 1], str(y[i]),\n",
    "                  color=plt.cm.Set1(y[i] / 10.),\n",
    "                 fontdict={'weight': 'bold', 'size': 9})\n",
    "\n",
    "    if hasattr(offsetbox, 'AnnotationBbox'):\n",
    "        # only print thumbnails with matplotlib > 1.0\n",
    "        shown_images = np.array([[1., 1.]])  # just something big\n",
    "        for k in range(seeds.shape[0]):\n",
    "            i = seeds[0][k]\n",
    "            dist = np.sum((X[i] - shown_images) ** 2, 1)\n",
    "#             if np.min(dist) < 4e-3:\n",
    "#                 # don't show points that are too close\n",
    "#                 continue\n",
    "            shown_images = np.r_[shown_images, [X[i]]]\n",
    "            imagebox = offsetbox.AnnotationBbox(\n",
    "                offsetbox.OffsetImage(digits.images[seeds[1][k]], cmap=plt.cm.gray_r),\n",
    "                X[i])\n",
    "            ax.add_artist(imagebox)\n",
    "            \n",
    "    plt.xticks([]), plt.yticks([])\n",
    "    if title is not None:\n",
    "        plt.title(title)"
   ]
  },
  {
   "cell_type": "code",
   "execution_count": null,
   "metadata": {},
   "outputs": [],
   "source": [
    "# t-SNE embedding of the digits dataset\n",
    "print(\"Computing t-SNE embedding\")\n",
    "tsne = TSNE(n_components=2, init='pca', random_state=0)\n",
    "t0 = time()\n",
    "X_tsne = tsne.fit_transform(X_comb)"
   ]
  },
  {
   "cell_type": "code",
   "execution_count": null,
   "metadata": {},
   "outputs": [],
   "source": [
    "kmeans = KMeans(init='k-means++', n_clusters=10, n_init=10)\n",
    "kmeans.fit(X_tsne)\n",
    "y = kmeans.labels_"
   ]
  },
  {
   "cell_type": "code",
   "execution_count": null,
   "metadata": {},
   "outputs": [],
   "source": [
    "digits = load_digits(n_class= 10)\n",
    "\n",
    "plot_embedding(X_tsne, y,\n",
    "               \"t-SNE embedding of the digits (time %.2fs)\" %\n",
    "               (time() - t0))\n",
    "\n",
    "plot_embedding_test(X_tsne, y,\n",
    "               \"t-SNE embedding of the digits (time %.2fs)\" %\n",
    "               (time() - t0))\n",
    "plt.show()"
   ]
  },
  {
   "cell_type": "code",
   "execution_count": null,
   "metadata": {},
   "outputs": [],
   "source": [
    "X_comb = cor.comps[0]"
   ]
  },
  {
   "cell_type": "code",
   "execution_count": null,
   "metadata": {},
   "outputs": [],
   "source": [
    "# t-SNE embedding of the digits dataset\n",
    "print(\"Computing t-SNE embedding\")\n",
    "tsne = TSNE(n_components=2, init='pca', random_state=0)\n",
    "t0 = time()\n",
    "X_tsne = tsne.fit_transform(X_comb)"
   ]
  },
  {
   "cell_type": "code",
   "execution_count": null,
   "metadata": {},
   "outputs": [],
   "source": [
    "kmeans = KMeans(init='k-means++', n_clusters=10, n_init=10)\n",
    "kmeans.fit(X_comb)\n",
    "y = kmeans.labels_"
   ]
  },
  {
   "cell_type": "code",
   "execution_count": null,
   "metadata": {},
   "outputs": [],
   "source": [
    "digits = load_digits(n_class= 10)\n",
    "plot_embedding(X_tsne, y,\n",
    "               \"t-SNE embedding of the digits (time %.2fs)\" %\n",
    "               (time() - t0))\n",
    "\n",
    "plot_embedding_test(X_tsne, y,\n",
    "               \"t-SNE embedding of the digits (time %.2fs)\" %\n",
    "               (time() - t0))\n",
    "plt.show()"
   ]
  },
  {
   "cell_type": "code",
   "execution_count": null,
   "metadata": {},
   "outputs": [],
   "source": [
    "label_pred = kmeans.labels_[seeds[0]]\n",
    "print(label_pred)"
   ]
  },
  {
   "cell_type": "code",
   "execution_count": null,
   "metadata": {
    "scrolled": true
   },
   "outputs": [],
   "source": [
    "# import sklearn.metrics\n",
    "\n",
    "# metrics.completeness_score(seeds[1], label_pred)"
   ]
  },
  {
   "cell_type": "code",
   "execution_count": null,
   "metadata": {},
   "outputs": [],
   "source": [
    "import sklearn.decomposition\n",
    "print(\"Computing PCA projection\")\n",
    "X_pca = TruncatedSVD(n_components=2).fit_transform(X_comb)\n",
    "plot_embedding(X_pca, y,\n",
    "               \"Principal Components projection of the digits (time %.2fs)\" %\n",
    "               (time() - t0))\n",
    "plt.show()"
   ]
  },
  {
   "cell_type": "code",
   "execution_count": 64,
   "metadata": {
    "scrolled": true
   },
   "outputs": [
    {
     "name": "stdout",
     "output_type": "stream",
     "text": [
      "kmeans done\n"
     ]
    },
    {
     "name": "stderr",
     "output_type": "stream",
     "text": [
      "/Library/Frameworks/Python.framework/Versions/3.6/lib/python3.6/site-packages/sklearn/cluster/k_means_.py:893: RuntimeWarning: Explicit initial center position passed: performing only one init in k-means instead of n_init=10\n",
      "  return_n_iter=True)\n"
     ]
    }
   ],
   "source": [
    "#jaiveer\n",
    "\n",
    "import numpy as np\n",
    "import pandas as pd\n",
    "import numpy as np\n",
    "import numpy.linalg as linalg\n",
    "import matplotlib.pyplot as plt\n",
    "import os\n",
    "\n",
    "from matplotlib import offsetbox\n",
    "from time import time\n",
    "from sklearn import metrics\n",
    "from sklearn.datasets import load_digits\n",
    "from sklearn.cluster import KMeans\n",
    "from sklearn.mixture import GaussianMixture as GMM\n",
    "from sklearn.decomposition import PCA, KernelPCA, TruncatedSVD\n",
    "from sklearn.preprocessing import StandardScaler, scale\n",
    "from sklearn.manifold import SpectralEmbedding, TSNE\n",
    "from sklearn.cross_decomposition import CCA\n",
    "import os\n",
    "import sys\n",
    "\n",
    "# Very basic PCA followed by k-means\n",
    "\n",
    "X = np.loadtxt(os.getcwd() + '/InitialData/Extracted_features.csv', delimiter=',')\n",
    "seeds = np.loadtxt(os.getcwd() + '/InitialData/Seed.csv', dtype = int, delimiter=',')\n",
    "\n",
    "X_std = StandardScaler().fit_transform(X)\n",
    "pca = PCA(n_components = 30)\n",
    "Y = pca.fit_transform(X_std)\n",
    "\n",
    "# Y = np.loadtxt(os.getcwd() + '/InitialData/X_cca.csv', delimiter=',')\n",
    "\n",
    "# Generate seed sets for each digit\n",
    "seed_set = [[]*10 for x in range(10)] # sets of ids of seeds of each digit\n",
    "for t in range(60):\n",
    "    id,digit = seeds[t]\n",
    "    seed_set[digit].append(id)\n",
    "seed_set = np.array(seed_set)\n",
    "\n",
    "K = Y[0].shape[0]\n",
    "seed_means = np.zeros((10,K))\n",
    "for t in range(10):\n",
    "    for k in range(K):\n",
    "        for i in range(6):\n",
    "            seed_means[t][k] += Y[seed_set[t][i]][k]\n",
    "        seed_means[t][k] = seed_means[t][k]/6\n",
    "\n",
    "kmeans = KMeans(init=seed_means, n_clusters=10)\n",
    "kmeans.fit_transform(Y)\n",
    "means = kmeans.cluster_centers_\n",
    "print(\"kmeans done\")\n",
    "# print(pca.explained_variance_)"
   ]
  },
  {
   "cell_type": "code",
   "execution_count": null,
   "metadata": {},
   "outputs": [],
   "source": [
    "gmm = GMM(n_components=10, covariance_type='full')\n",
    "gmm.fit(Y)\n",
    "gmm_labels = gmm.predict(Y)\n",
    "print(gmm_labels[:60])"
   ]
  },
  {
   "cell_type": "code",
   "execution_count": 238,
   "metadata": {},
   "outputs": [],
   "source": [
    "\n",
    "# Generating labels for a cluster, given the data set clustering was done on and the seed_set. Returns new labels\n",
    "def relabel(clustering, data, id_map):\n",
    "    # Fill up distance matrix\n",
    "    dist_matrix = np.zeros((10,10)) # row = digit, column = cluster\n",
    "    for digit in range(10):\n",
    "        for cluster in range(10):\n",
    "            for t in range(seed_set[digit].size):\n",
    "                id = seed_set[digit][t]\n",
    "                dist_matrix[digit][cluster] += np.linalg.norm(clustering.cluster_centers_[cluster] - data[id_map[id]])\n",
    "    #             dist_matrix[digit][cluster] += np.linalg.norm(np.dot(means[cluster] - Y[id],pca.explained_variance_))\n",
    "    # Assign labels based on minimum distance to centroid\n",
    "    labels = {} # dictionary key is digit assigned, value is the cluster\n",
    "    while len(labels) < 10:\n",
    "        min = sys.maxsize\n",
    "        for digit in range(10):\n",
    "            for cluster in range(10):\n",
    "                if dist_matrix[digit][cluster] < min:\n",
    "                    if digit not in labels and cluster not in labels.values():\n",
    "                        min = dist_matrix[digit][cluster]\n",
    "                        labels[digit] = cluster\n",
    "    result = np.zeros((4001, 2), dtype='int')\n",
    "    for digit in range(10):\n",
    "        for t in range(4000):\n",
    "            if kmeans.labels_[t+6000] == labels[digit]:\n",
    "                result[t+1] = [int(t+6001), int(digit)]\n",
    "    return result\n"
   ]
  },
  {
   "cell_type": "code",
   "execution_count": null,
   "metadata": {},
   "outputs": [],
   "source": []
  },
  {
   "cell_type": "code",
   "execution_count": null,
   "metadata": {},
   "outputs": [],
   "source": [
    "# Writing result.csv file\n",
    "result = np.zeros((10000, 2), dtype='int')\n",
    "# result[0] = ['Id', 'Label']\n",
    "# for digit in range(10):\n",
    "#     for t in range(6000):\n",
    "#         if kmeans.labels_[t] == labels[digit]:\n",
    "#             result[t] = [int(t+1), int(digit)]\n",
    "for t in range(6000):\n",
    "    result[t+1] = [int(t+1), int(kmeans.labels_[t])]\n",
    "\n",
    "result = np.array(result)\n",
    "np.savetxt(\"result0->5999.csv\", result[:6000], delimiter=\",\", fmt='%d')\n",
    "# np.savetxt(\"result6000->9999.csv\", result[6000:], delimiter=\",\", fmt='%d')\n",
    "print(\"All done\")\n",
    "    "
   ]
  },
  {
   "cell_type": "code",
   "execution_count": null,
   "metadata": {},
   "outputs": [],
   "source": [
    "def dissimilarity(X,Y):\n",
    "    val = 0\n",
    "    for i in range(X.shape[0]):\n",
    "        if X[i][1] != Y[i][1]:\n",
    "            val = val + 1\n",
    "    val = val/X.shape[0]*100\n",
    "    print(str(val)+\"% dissimilarity\")"
   ]
  },
  {
   "cell_type": "code",
   "execution_count": null,
   "metadata": {},
   "outputs": [],
   "source": [
    "one = np.loadtxt('result.csv', delimiter=',')\n",
    "two = np.loadtxt('result2.csv',delimiter=',')\n",
    "dissimilarity(one, two)"
   ]
  },
  {
   "cell_type": "code",
   "execution_count": 159,
   "metadata": {},
   "outputs": [
    {
     "name": "stdout",
     "output_type": "stream",
     "text": [
      "[7 9 6 7 1 4 4 6 3 6 1 3 3 7 4 9 3 3 7 8 7 0 6 9 0 8 5 2 8 5 4 0 9 6 0 3 1\n",
      " 2 3 9 6 2 8 6 5 8 8 1 5 3 0 3 6 3 7 0 0 5 1 4]\n",
      "[1 7 7 5 3 2 0 3 7 9 3 5 5 7 2 7 9 8 7 6 5 6 9 6 4 3 5 5 9 5 9 4 3 1 9 0 1\n",
      " 3 8 7 0 2 6 1 5 5 1 3 5 1 0 0 5 0 8 9 9 5 1 2]\n"
     ]
    }
   ],
   "source": [
    "# ASSUMPTION: X[i] corresponds to features of data point i + 1\n",
    "\n",
    "# new technique - do PCA on first 60 and cluster\n",
    "X_std = StandardScaler().fit_transform(X)\n",
    "X_std_2 = StandardScaler(with_std=False).fit_transform(X)\n",
    "\n",
    "seed_id_map = {} # map from id to index\n",
    "for i in range(seeds.shape[0]):\n",
    "    seed_id_map[seeds[i][0]] = i\n",
    "index_to_id_map = {v: k for k, v in seed_id_map.items()}\n",
    "\n",
    "Seeds_features = X[seeds[:,0]]\n",
    "np.savetxt(\"Seeds_features\", Seeds_features, delimiter=\",\", fmt='%d')\n",
    "\n",
    "# mean center\n",
    "Seeds_features_std = StandardScaler().fit_transform(Seeds_features)\n",
    "Seeds_features_std_2 = StandardScaler(with_std=False).fit_transform(Seeds_features)\n",
    "\n",
    "pca = PCA(n_components = 1000)\n",
    "Y_60_1 = pca.fit_transform(Seeds_features_std)\n",
    "Y_60_2 = pca.fit_transform(Seeds_features_std_2)\n",
    "kmeans1 = KMeans(init='k-means++', n_clusters=10, n_init=10)\n",
    "kmeans1.fit_transform(Y_60_1)\n",
    "kmeans2 = KMeans(init='k-means++', n_clusters=10, n_init=10)\n",
    "kmeans2.fit_transform(Y_60_2)\n",
    "print(kmeans1.labels_)\n",
    "print(kmeans2.labels_)"
   ]
  },
  {
   "cell_type": "code",
   "execution_count": 160,
   "metadata": {},
   "outputs": [],
   "source": [
    "def purity(cluster_labels, actual_labels):\n",
    "    pureness = 0\n",
    "    for i in range(cluster_labels.shape[0]):\n",
    "        if cluster_labels[i] == actual_labels[i]:\n",
    "            pureness += 1\n",
    "    return pureness/cluster_labels.shape[0]\n"
   ]
  },
  {
   "cell_type": "code",
   "execution_count": 161,
   "metadata": {},
   "outputs": [],
   "source": [
    "def purity_score(clusters, classes):\n",
    "    \"\"\"\n",
    "    Calculate the purity score for the given cluster assignments and ground truth classes\n",
    "    \n",
    "    :param clusters: the cluster assignments array\n",
    "    :type clusters: numpy.array\n",
    "    \n",
    "    :param classes: the ground truth classes\n",
    "    :type classes: numpy.array\n",
    "    \n",
    "    :returns: the purity score\n",
    "    :rtype: float\n",
    "    \"\"\"\n",
    "    \n",
    "    A = np.c_[(clusters,classes)]\n",
    "\n",
    "    n_accurate = 0.\n",
    "\n",
    "    for j in np.unique(A[:,0]):\n",
    "        z = A[A[:,0] == j, 1]\n",
    "        x = np.argmax(np.bincount(z))\n",
    "        n_accurate += len(z[z == x])\n",
    "\n",
    "    return n_accurate / A.shape[0]"
   ]
  },
  {
   "cell_type": "code",
   "execution_count": 162,
   "metadata": {},
   "outputs": [],
   "source": [
    "def relabel2(old_labels):\n",
    "    print(\"here1\")\n",
    "    mat = np.zeros((10,10)) # cell i,j = number of times seed of digit j occurs in cluster i\n",
    "    for index in range(old_labels.shape[0]):\n",
    "        cluster = old_labels[index]\n",
    "        mat[cluster][seeds[index][1]] += 1\n",
    "    print(mat)\n",
    "    print(\"here\")\n",
    "    labels = {} # dictionary key is digit assigned, value is the cluster\n",
    "    while len(labels) < 10:\n",
    "        maxi = 0\n",
    "        for digit in range(10):\n",
    "            for cluster in range(10):\n",
    "                if mat[cluster][digit] > maxi and (digit not in labels and cluster not in labels.values()):\n",
    "                    maxi = mat[cluster][digit]\n",
    "                    labels[digit] = cluster\n",
    "        if maxi == 0:\n",
    "            digit = np.random.randint(10)\n",
    "            cluster = np.random.randint(10)\n",
    "            if digit not in labels and cluster not in labels.values():\n",
    "                labels[digit] = cluster\n",
    "    new_labels = np.zeros((60,))\n",
    "    for k, v in labels.items():\n",
    "        for x in range(old_labels.shape[0]):\n",
    "            if old_labels[x] == v:\n",
    "                new_labels[x] = k\n",
    "    return new_labels"
   ]
  },
  {
   "cell_type": "code",
   "execution_count": null,
   "metadata": {},
   "outputs": [],
   "source": [
    "def relabel3(old_labels):"
   ]
  },
  {
   "cell_type": "code",
   "execution_count": 205,
   "metadata": {},
   "outputs": [
    {
     "name": "stdout",
     "output_type": "stream",
     "text": [
      "0.35\n",
      "0.31666666666666665\n",
      "here1\n",
      "[[ 1.  0.  0.  2.  1.  1.  1.  0.  0.  1.]\n",
      " [ 0.  2.  0.  1.  0.  0.  1.  0.  0.  1.]\n",
      " [ 0.  0.  0.  0.  0.  0.  2.  1.  0.  0.]\n",
      " [ 1.  1.  2.  0.  0.  1.  1.  2.  1.  1.]\n",
      " [ 0.  0.  0.  1.  4.  0.  0.  0.  0.  0.]\n",
      " [ 1.  0.  1.  0.  0.  0.  1.  1.  0.  1.]\n",
      " [ 1.  0.  1.  1.  0.  3.  0.  0.  2.  0.]\n",
      " [ 1.  1.  1.  0.  0.  0.  0.  2.  1.  0.]\n",
      " [ 1.  1.  0.  0.  0.  0.  0.  0.  2.  2.]\n",
      " [ 0.  1.  1.  1.  1.  1.  0.  0.  0.  0.]]\n",
      "here\n",
      "here1\n",
      "[[ 0.  1.  0.  1.  1.  0.  0.  1.  1.  1.]\n",
      " [ 1.  1.  1.  1.  0.  1.  0.  2.  0.  0.]\n",
      " [ 0.  0.  0.  1.  2.  0.  1.  0.  0.  0.]\n",
      " [ 0.  1.  0.  0.  0.  2.  2.  0.  0.  2.]\n",
      " [ 0.  0.  0.  1.  0.  1.  0.  0.  0.  0.]\n",
      " [ 2.  1.  3.  0.  0.  1.  1.  3.  0.  1.]\n",
      " [ 0.  0.  1.  1.  0.  0.  0.  0.  2.  0.]\n",
      " [ 0.  2.  1.  1.  1.  1.  0.  0.  1.  0.]\n",
      " [ 2.  0.  0.  0.  0.  0.  0.  0.  0.  1.]\n",
      " [ 1.  0.  0.  0.  2.  0.  2.  0.  2.  1.]]\n",
      "here\n",
      "[ 9.  3.  5.  9.  1.  4.  4.  5.  2.  5.  1.  2.  2.  9.  4.  3.  2.  2.\n",
      "  9.  8.  9.  0.  5.  3.  0.  8.  7.  6.  8.  7.  4.  0.  3.  5.  0.  2.\n",
      "  1.  6.  2.  3.  5.  6.  8.  5.  7.  8.  8.  1.  7.  2.  0.  2.  5.  2.\n",
      "  9.  0.  0.  7.  1.  4.]\n",
      "[ 0.  1.  1.  2.  5.  4.  3.  5.  1.  6.  5.  2.  2.  1.  4.  1.  6.  9.\n",
      "  1.  8.  2.  8.  6.  8.  7.  5.  2.  2.  6.  2.  6.  7.  5.  0.  6.  3.\n",
      "  0.  5.  9.  1.  3.  4.  8.  0.  2.  2.  0.  5.  2.  0.  3.  3.  2.  3.\n",
      "  9.  6.  6.  2.  0.  4.]\n",
      "0.3\n",
      "0.26666666666666666\n",
      "0.363420508761\n"
     ]
    }
   ],
   "source": [
    "print (purity_score(kmeans1.labels_, seeds[:,1]))\n",
    "print (purity_score(kmeans2.labels_, seeds[:,1]))\n",
    "label1 = relabel2(kmeans1.labels_)\n",
    "label2 = relabel2(kmeans2.labels_)\n",
    "print(label1)\n",
    "print(label2)\n",
    "print(str(purity(label1,seeds[:,1])))\n",
    "print(str(purity(label2,seeds[:,1])))\n",
    "\n",
    "print(metrics.completeness_score(seeds[:,1],label1))"
   ]
  },
  {
   "cell_type": "code",
   "execution_count": null,
   "metadata": {},
   "outputs": [],
   "source": [
    "graph = np.loadtxt(os.getcwd() + '/InitialData/Graph.csv', delimiter=',')"
   ]
  },
  {
   "cell_type": "code",
   "execution_count": 206,
   "metadata": {},
   "outputs": [
    {
     "name": "stdout",
     "output_type": "stream",
     "text": [
      "(60, 60)\n",
      "0.31666666666666665\n",
      "here1\n",
      "[[ 0.  0.  1.  0.  0.  0.  0.  0.  0.  0.]\n",
      " [ 4.  0.  4.  3.  0.  2.  1.  0.  4.  1.]\n",
      " [ 0.  0.  0.  1.  2.  1.  1.  0.  0.  3.]\n",
      " [ 1.  1.  0.  0.  0.  1.  0.  0.  1.  0.]\n",
      " [ 0.  0.  0.  0.  1.  0.  0.  3.  0.  0.]\n",
      " [ 0.  2.  0.  1.  1.  2.  1.  2.  0.  0.]\n",
      " [ 1.  1.  0.  0.  1.  0.  0.  0.  0.  1.]\n",
      " [ 0.  0.  0.  0.  1.  0.  1.  0.  0.  0.]\n",
      " [ 0.  0.  0.  1.  0.  0.  0.  1.  1.  0.]\n",
      " [ 0.  2.  1.  0.  0.  0.  2.  0.  0.  1.]]\n",
      "here\n",
      "0.2833333333333333\n",
      "0.412076050106\n"
     ]
    },
    {
     "name": "stderr",
     "output_type": "stream",
     "text": [
      "/Library/Frameworks/Python.framework/Versions/3.6/lib/python3.6/site-packages/sklearn/manifold/spectral_embedding_.py:234: UserWarning: Graph is not fully connected, spectral embedding may not work as expected.\n",
      "  warnings.warn(\"Graph is not fully connected, spectral embedding\"\n"
     ]
    }
   ],
   "source": [
    "small_graph = matrix[:60,:60]\n",
    "print(small_graph.shape)\n",
    "        \n",
    "spectral = SpectralEmbedding(n_components=20, eigen_solver='arpack', affinity=\"precomputed\")\n",
    "X_sp = spectral.fit_transform(small_graph)\n",
    "kmeans = KMeans(init='k-means++', n_clusters=10, n_init=10)\n",
    "kmeans.fit_transform(X_sp)\n",
    "label1 = relabel2(kmeans.labels_)\n",
    "print(metrics.completeness_score(seeds[:,1],label1))"
   ]
  },
  {
   "cell_type": "code",
   "execution_count": 207,
   "metadata": {},
   "outputs": [],
   "source": [
    "# Scale and visualize the embedding vectors\n",
    "def plot_embedding(X, title=None):\n",
    "    x_min, x_max = np.min(X, 0), np.max(X, 0)\n",
    "    X = (X - x_min) / (x_max - x_min)\n",
    "\n",
    "    plt.figure()\n",
    "    ax = plt.subplot(111)\n",
    "    for i in range(X.shape[0]):\n",
    "        plt.text(X[i, 0], X[i, 1], str(digits.target[i]),\n",
    "                 color=plt.cm.Set1(y[i] / 10.),\n",
    "                 fontdict={'weight': 'bold', 'size': 9})\n",
    "\n",
    "    if hasattr(offsetbox, 'AnnotationBbox'):\n",
    "        # only print thumbnails with matplotlib > 1.0\n",
    "        shown_images = np.array([[1., 1.]])  # just something big\n",
    "        for i in range(digits.data.shape[0]):\n",
    "            dist = np.sum((X[i] - shown_images) ** 2, 1)\n",
    "            if np.min(dist) < 4e-3:\n",
    "                # don't show points that are too close\n",
    "                continue\n",
    "            shown_images = np.r_[shown_images, [X[i]]]\n",
    "            imagebox = offsetbox.AnnotationBbox(\n",
    "                offsetbox.OffsetImage(digits.images[i], cmap=plt.cm.gray_r),\n",
    "                X[i])\n",
    "            ax.add_artist(imagebox)\n",
    "    plt.xticks([]), plt.yticks([])\n",
    "    if title is not None:\n",
    "        plt.title(title)"
   ]
  },
  {
   "cell_type": "code",
   "execution_count": 210,
   "metadata": {},
   "outputs": [
    {
     "name": "stdout",
     "output_type": "stream",
     "text": [
      "Computing t-SNE embedding\n"
     ]
    },
    {
     "ename": "NameError",
     "evalue": "name 'digits' is not defined",
     "output_type": "error",
     "traceback": [
      "\u001b[0;31m---------------------------------------------------------------------------\u001b[0m",
      "\u001b[0;31mNameError\u001b[0m                                 Traceback (most recent call last)",
      "\u001b[0;32m<ipython-input-210-df2ba58535d2>\u001b[0m in \u001b[0;36m<module>\u001b[0;34m()\u001b[0m\n\u001b[1;32m      7\u001b[0m plot_embedding(X_tsne,\n\u001b[1;32m      8\u001b[0m                \u001b[0;34m\"t-SNE embedding of the digits (time %.2fs)\"\u001b[0m \u001b[0;34m%\u001b[0m\u001b[0;34m\u001b[0m\u001b[0m\n\u001b[0;32m----> 9\u001b[0;31m                (time() - t0))\n\u001b[0m\u001b[1;32m     10\u001b[0m \u001b[0;34m\u001b[0m\u001b[0m\n\u001b[1;32m     11\u001b[0m \u001b[0mplt\u001b[0m\u001b[0;34m.\u001b[0m\u001b[0mshow\u001b[0m\u001b[0;34m(\u001b[0m\u001b[0;34m)\u001b[0m\u001b[0;34m\u001b[0m\u001b[0m\n",
      "\u001b[0;32m<ipython-input-207-9bd2e442b8a5>\u001b[0m in \u001b[0;36mplot_embedding\u001b[0;34m(X, title)\u001b[0m\n\u001b[1;32m      7\u001b[0m     \u001b[0max\u001b[0m \u001b[0;34m=\u001b[0m \u001b[0mplt\u001b[0m\u001b[0;34m.\u001b[0m\u001b[0msubplot\u001b[0m\u001b[0;34m(\u001b[0m\u001b[0;36m111\u001b[0m\u001b[0;34m)\u001b[0m\u001b[0;34m\u001b[0m\u001b[0m\n\u001b[1;32m      8\u001b[0m     \u001b[0;32mfor\u001b[0m \u001b[0mi\u001b[0m \u001b[0;32min\u001b[0m \u001b[0mrange\u001b[0m\u001b[0;34m(\u001b[0m\u001b[0mX\u001b[0m\u001b[0;34m.\u001b[0m\u001b[0mshape\u001b[0m\u001b[0;34m[\u001b[0m\u001b[0;36m0\u001b[0m\u001b[0;34m]\u001b[0m\u001b[0;34m)\u001b[0m\u001b[0;34m:\u001b[0m\u001b[0;34m\u001b[0m\u001b[0m\n\u001b[0;32m----> 9\u001b[0;31m         plt.text(X[i, 0], X[i, 1], str(digits.target[i]),\n\u001b[0m\u001b[1;32m     10\u001b[0m                  \u001b[0mcolor\u001b[0m\u001b[0;34m=\u001b[0m\u001b[0mplt\u001b[0m\u001b[0;34m.\u001b[0m\u001b[0mcm\u001b[0m\u001b[0;34m.\u001b[0m\u001b[0mSet1\u001b[0m\u001b[0;34m(\u001b[0m\u001b[0my\u001b[0m\u001b[0;34m[\u001b[0m\u001b[0mi\u001b[0m\u001b[0;34m]\u001b[0m \u001b[0;34m/\u001b[0m \u001b[0;36m10.\u001b[0m\u001b[0;34m)\u001b[0m\u001b[0;34m,\u001b[0m\u001b[0;34m\u001b[0m\u001b[0m\n\u001b[1;32m     11\u001b[0m                  fontdict={'weight': 'bold', 'size': 9})\n",
      "\u001b[0;31mNameError\u001b[0m: name 'digits' is not defined"
     ]
    }
   ],
   "source": [
    "# t-SNE embedding of the digits dataset\n",
    "print(\"Computing t-SNE embedding\")\n",
    "tsne = TSNE(n_components=2, init='pca', random_state=0)\n",
    "t0 = time()\n",
    "X_tsne = tsne.fit_transform(X)"
   ]
  },
  {
   "cell_type": "code",
   "execution_count": 226,
   "metadata": {},
   "outputs": [],
   "source": [
    "def plot_embedding_test(X, y, title=None):\n",
    "    x_min, x_max = np.min(X, 0), np.max(X, 0)\n",
    "    X = (X - x_min) / (x_max - x_min)\n",
    "\n",
    "    plt.figure()\n",
    "    ax = plt.subplot(111)\n",
    "    for i in range(X.shape[0]):\n",
    "#         plt.text(X[i, 0], X[i, 1], str(digits.target[i]),\n",
    "        plt.text(X[i, 0], X[i, 1], str(y[i]),\n",
    "                  color=plt.cm.Set1(y[i] / 10.),\n",
    "                 fontdict={'weight': 'bold', 'size': 9})\n",
    "\n",
    "    if hasattr(offsetbox, 'AnnotationBbox'):\n",
    "        # only print thumbnails with matplotlib > 1.0\n",
    "#         shown_images = np.array([[1., 1.]])  # just something big\n",
    "        for k in range(seeds.shape[0]):\n",
    "#             i = seeds[0][k]\n",
    "#             shown_images = np.r_[shown_images, [X[i]]]\n",
    "            imagebox = offsetbox.AnnotationBbox(\n",
    "                offsetbox.OffsetImage(digits.images[int(seeds[k][1])], cmap=plt.cm.gray_r),\n",
    "                X[k])\n",
    "            ax.add_artist(imagebox)\n",
    "            \n",
    "    plt.xticks([]), plt.yticks([])\n",
    "    if title is not None:\n",
    "        plt.title(title)"
   ]
  },
  {
   "cell_type": "code",
   "execution_count": 227,
   "metadata": {},
   "outputs": [
    {
     "data": {
      "image/png": "[encoded data removed]",
      "text/plain": [
       "<matplotlib.figure.Figure at 0x15b6244a8>"
      ]
     },
     "metadata": {},
     "output_type": "display_data"
    }
   ],
   "source": [
    "kmeans = KMeans(init='k-means++', n_clusters=10, n_init=10)\n",
    "kmeans.fit(X_tsne)\n",
    "y = kmeans.labels_\n",
    "\n",
    "digits = load_digits(n_class= 10)\n",
    "\n",
    "# plot_embedding(X_tsne, y,\n",
    "#                \"t-SNE embedding of the digits (time %.2fs)\" %\n",
    "#                (time() - t0))\n",
    "\n",
    "plot_embedding_test(X_tsne, y,\n",
    "               \"t-SNE embedding of the digits (time %.2fs)\" %\n",
    "               (time() - t0))\n",
    "plt.show()"
   ]
  },
  {
   "cell_type": "code",
   "execution_count": 239,
   "metadata": {},
   "outputs": [],
   "source": [
    "result = relabel(kmeans, X_tsne, seed_id_map)\n",
    "np.savetxt(\"result-tsne.csv\", result, delimiter=\",\", fmt='%d')\n"
   ]
  },
  {
   "cell_type": "code",
   "execution_count": null,
   "metadata": {},
   "outputs": [],
   "source": [
    "# Spectral embedding of the digits dataset\n",
    "print(\"Computing Spectral embedding\")\n",
    "embedder = manifold.SpectralEmbedding(n_components=2, random_state=0,\n",
    "                                      eigen_solver=\"arpack\")\n",
    "t0 = time()\n",
    "X_se = embedder.fit_transform(X)\n",
    "\n",
    "kmeans = KMeans(init='k-means++', n_clusters=10, n_init=10)\n",
    "kmeans.fit(X_tsne)\n",
    "y = kmeans.labels_\n",
    "\n",
    "plot_embedding_test(X_se,\n",
    "               \"Spectral embedding of the digits (time %.2fs)\" %\n",
    "               (time() - t0))\n",
    "plt.show()"
   ]
  },
  {
   "cell_type": "code",
   "execution_count": null,
   "metadata": {},
   "outputs": [],
   "source": [
    "# print(\"Computing Spectral embedding\")\n",
    "# embedder = cluster.SpectralClustering(n_components=2, random_state=0,\n",
    "#                                       eigen_solver=\"arpack\")\n",
    "# t0 = time()\n",
    "# X_se = embedder.fit_transform(X)\n",
    "\n",
    "# kmeans = KMeans(init='k-means++', n_clusters=10, n_init=10)\n",
    "# kmeans.fit(X_tsne)\n",
    "# y = kmeans.labels_\n",
    "\n",
    "# plot_embedding_test(X_se,\n",
    "#                \"Spectral embedding of the digits (time %.2fs)\" %\n",
    "#                (time() - t0))\n",
    "# plt.show()"
   ]
  },
  {
   "cell_type": "code",
   "execution_count": null,
   "metadata": {},
   "outputs": [],
   "source": [
    "# Visualize the clustering\n",
    "def plot_clustering(X_red, X, labels, title=None):\n",
    "    x_min, x_max = np.min(X_red, axis=0), np.max(X_red, axis=0)\n",
    "    X_red = (X_red - x_min) / (x_max - x_min)\n",
    "\n",
    "    plt.figure(figsize=(6, 4))\n",
    "    for i in range(seeds.shape[0]):\n",
    "        plt.text(X_red[i, 0], X_red[i, 1], str(y[i]),\n",
    "                 color=plt.cm.spectral(labels[i] / 10.),\n",
    "                 fontdict={'weight': 'bold', 'size': 9})\n",
    "\n",
    "    plt.xticks([])\n",
    "    plt.yticks([])\n",
    "    if title is not None:\n",
    "        plt.title(title, size=17)\n",
    "    plt.axis('off')\n",
    "    plt.tight_layout()\n",
    "    \n",
    "# 2D embedding of the digits dataset\n",
    "print(\"Computing embedding\")\n",
    "X_red = manifold.SpectralEmbedding(n_components=2).fit_transform(X)\n",
    "print(\"Done.\")\n",
    "\n",
    "from sklearn.cluster import AgglomerativeClustering\n",
    "\n",
    "for linkage in ('ward', 'average', 'complete'):\n",
    "    clustering = AgglomerativeClustering(linkage=linkage, n_clusters=10)\n",
    "    t0 = time()\n",
    "    clustering.fit(X_red)\n",
    "    print(\"%s : %.2fs\" % (linkage, time() - t0))\n",
    "\n",
    "#     plot_clustering(X_red, X, clustering.labels_, \"%s linkage\" % linkage)\n",
    "    plot_embedding_test(X_tsne, y,\n",
    "               \"t-SNE embedding of the digits (time %.2fs)\" %\n",
    "               (time() - t0))\n",
    "\n",
    "\n",
    "plt.show()"
   ]
  },
  {
   "cell_type": "code",
   "execution_count": 248,
   "metadata": {},
   "outputs": [
    {
     "name": "stdout",
     "output_type": "stream",
     "text": [
      "running spectral\n",
      "running pca\n",
      "running cca\n",
      "done\n"
     ]
    }
   ],
   "source": [
    "k = 50\n",
    "print(\"running spectral\")\n",
    "spectral = SpectralEmbedding(n_components=k, eigen_solver='arpack', affinity=\"precomputed\")\n",
    "X_sp = spectral.fit_transform(matrix)\n",
    "view2 = spectral.embedding_\n",
    "\n",
    "print(\"running pca\")\n",
    "X_std = StandardScaler(with_std=False).fit_transform(X)\n",
    "pca = PCA(n_components = k)\n",
    "X_pca = pca.fit_transform(X_std)\n",
    "\n",
    "print(\"running cca\")\n",
    "cca = CCA(n_components=20)\n",
    "sp_cca, pca_cca = cca.fit_transform(X_sp, X_pca[:6000])\n",
    "\n",
    "print(\"done\")\n",
    "\n"
   ]
  },
  {
   "cell_type": "markdown",
   "metadata": {},
   "source": [
    " "
   ]
  },
  {
   "cell_type": "code",
   "execution_count": null,
   "metadata": {},
   "outputs": [],
   "source": [
    "Y2 = X_std * pca_cca"
   ]
  }
 ],
 "metadata": {
  "kernelspec": {
   "display_name": "Python 3",
   "language": "python",
   "name": "python3"
  },
  "language_info": {
   "codemirror_mode": {
    "name": "ipython",
    "version": 3
   },
   "file_extension": ".py",
   "mimetype": "text/x-python",
   "name": "python",
   "nbconvert_exporter": "python",
   "pygments_lexer": "ipython3",
   "version": "3.6.2"
  },
  "toc": {
   "colors": {
    "hover_highlight": "#DAA520",
    "navigate_num": "#000000",
    "navigate_text": "#333333",
    "running_highlight": "#FF0000",
    "selected_highlight": "#FFD700",
    "sidebar_border": "#EEEEEE",
    "wrapper_background": "#FFFFFF"
   },
   "moveMenuLeft": true,
   "nav_menu": {
    "height": "12px",
    "width": "252px"
   },
   "navigate_menu": true,
   "number_sections": true,
   "sideBar": true,
   "threshold": 4,
   "toc_cell": false,
   "toc_section_display": "block",
   "toc_window_display": false,
   "widenNotebook": false
  }
 },
 "nbformat": 4,
 "nbformat_minor": 2
}
